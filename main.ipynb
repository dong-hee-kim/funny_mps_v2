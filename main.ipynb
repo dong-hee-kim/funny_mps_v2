{
 "cells": [
  {
   "cell_type": "code",
   "execution_count": 2,
   "metadata": {
    "colab": {
     "base_uri": "https://localhost:8080/"
    },
    "executionInfo": {
     "elapsed": 2979,
     "status": "ok",
     "timestamp": 1740069054256,
     "user": {
      "displayName": "Honggeun Jo",
      "userId": "01265114581469161587"
     },
     "user_tz": -540
    },
    "id": "mLUyf8eClXJy",
    "outputId": "eeebd763-d31a-4b89-c1f6-7216341999bc"
   },
   "outputs": [],
   "source": [
    "import matplotlib.pyplot as plt\n",
    "import numpy as np\n",
    "from script.multi_points_modeling import multi_points_modeling\n",
    "TI = np.loadtxt('training_images/ti_strebelle.dat', skiprows = 3)\n",
    "TI = TI.reshape(250,250,1)"
   ]
  },
  {
   "cell_type": "code",
   "execution_count": 13,
   "metadata": {
    "executionInfo": {
     "elapsed": 4,
     "status": "ok",
     "timestamp": 1740069100239,
     "user": {
      "displayName": "Honggeun Jo",
      "userId": "01265114581469161587"
     },
     "user_tz": -540
    },
    "id": "olsCQQeTlOME"
   },
   "outputs": [],
   "source": [
    "# define global parameters such as facies ratio, number of realizations, random seed, etc.\n",
    "random_seed = 77779\n",
    "n_real = 1\n",
    "real_nx, real_ny, real_nz = 100, 100, 1\n",
    "template_size = [3, 3, 1] # in x-, y-, and z- directions (odd number for better performance)\n"
   ]
  },
  {
   "cell_type": "code",
   "execution_count": 14,
   "metadata": {},
   "outputs": [],
   "source": [
    "real = multi_points_modeling(TI, template_size, random_seed+1, real_nx, real_ny, real_nz)"
   ]
  },
  {
   "cell_type": "code",
   "execution_count": 15,
   "metadata": {},
   "outputs": [
    {
     "data": {
      "text/plain": [
       "<matplotlib.image.AxesImage at 0x1d26f97a5d0>"
      ]
     },
     "execution_count": 15,
     "metadata": {},
     "output_type": "execute_result"
    },
    {
     "data": {
      "image/png": "[encoded data removed]",
      "text/plain": [
       "<Figure size 640x480 with 1 Axes>"
      ]
     },
     "metadata": {},
     "output_type": "display_data"
    }
   ],
   "source": [
    "plt.imshow(real)"
   ]
  },
  {
   "cell_type": "code",
   "execution_count": null,
   "metadata": {},
   "outputs": [],
   "source": []
  }
 ],
 "metadata": {
  "colab": {
   "provenance": [
    {
     "file_id": "https://github.com/geomodeller/funny_mps/blob/main/main.ipynb",
     "timestamp": 1740059087727
    }
   ]
  },
  "kernelspec": {
   "display_name": "Python 3",
   "language": "python",
   "name": "python3"
  },
  "language_info": {
   "codemirror_mode": {
    "name": "ipython",
    "version": 3
   },
   "file_extension": ".py",
   "mimetype": "text/x-python",
   "name": "python",
   "nbconvert_exporter": "python",
   "pygments_lexer": "ipython3",
   "version": "3.13.1"
  }
 },
 "nbformat": 4,
 "nbformat_minor": 0
}
