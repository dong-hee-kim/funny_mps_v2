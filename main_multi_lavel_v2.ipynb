{
 "cells": [
  {
   "cell_type": "code",
   "execution_count": 167,
   "metadata": {
    "colab": {
     "base_uri": "https://localhost:8080/"
    },
    "executionInfo": {
     "elapsed": 2979,
     "status": "ok",
     "timestamp": 1740069054256,
     "user": {
      "displayName": "Honggeun Jo",
      "userId": "01265114581469161587"
     },
     "user_tz": -540
    },
    "id": "mLUyf8eClXJy",
    "outputId": "eeebd763-d31a-4b89-c1f6-7216341999bc"
   },
   "outputs": [
    {
     "name": "stdout",
     "output_type": "stream",
     "text": [
      "The autoreload extension is already loaded. To reload it, use:\n",
      "  %reload_ext autoreload\n"
     ]
    }
   ],
   "source": [
    "%load_ext autoreload\n",
    "%autoreload 2\n",
    "import matplotlib.pyplot as plt\n",
    "import numpy as np\n",
    "import pandas as pd\n",
    "import pyvista as pv\n",
    "from script.visualization_3D import visualize_TI_3D_pyvista\n",
    "from script.multi_points_modeling import multi_points_modeling, multi_points_modeling_multi_scaled\n",
    "\n",
    "TI = np.loadtxt('ti_strebelle.dat', skiprows = 3).reshape(250,250,1)\n",
    "TI_3D = np.concatenate([TI for _ in range(64)], axis=2)  # (250, 250, 10)"
   ]
  },
  {
   "cell_type": "code",
   "execution_count": null,
   "metadata": {},
   "outputs": [
    {
     "data": {
      "application/vnd.jupyter.widget-view+json": {
       "model_id": "40cf2a57c7d34c679204d13140601607",
       "version_major": 2,
       "version_minor": 0
      },
      "text/plain": [
       "Widget(value='<iframe src=\"http://localhost:58942/index.html?ui=P_0x27679910e10_4&reconnect=auto\" class=\"pyvis…"
      ]
     },
     "metadata": {},
     "output_type": "display_data"
    }
   ],
   "source": [
    "# visulaization 3D training image\n",
    "visualize_TI_3D_pyvista(TI_3D)"
   ]
  },
  {
   "cell_type": "code",
   "execution_count": null,
   "metadata": {},
   "outputs": [],
   "source": [
    "##########################################\n",
    "##  original demo for 64x64x16         ##\n",
    "##########################################\n",
    "\n",
    "random_seed = 7771\n",
    "real_nx, real_ny, real_nz = 64, 64, 16\n",
    "template_size = [5, 5, 5]\n",
    "level_size = 2\n",
    "n_level = 4\n",
    "unique_facies = list(np.unique(TI_3D).astype(np.int8))\n",
    "num_hard_data = 5\n",
    "\n",
    "hard_data = pd.DataFrame({\n",
    "'x': np.random.randint(0, real_nx//level_size**n_level, num_hard_data),\n",
    "'y': np.random.randint(0, real_ny//level_size**n_level, num_hard_data),\n",
    "'z': np.random.randint(0, real_nz//level_size**n_level, num_hard_data),\n",
    "'facies': [unique_facies[np.random.randint(0, len(unique_facies))] for _ in range(num_hard_data)]\n",
    "})\n",
    "\n",
    "real = multi_points_modeling_multi_scaled(TI_3D, n_level, level_size, \n",
    "                                          template_size, random_seed, \n",
    "                                          real_nx, real_ny, real_nz, \n",
    "                                          hard_data, verbose = False)"
   ]
  },
  {
   "cell_type": "code",
   "execution_count": null,
   "metadata": {},
   "outputs": [],
   "source": [
    "# 3D realization with hard data conditioning\n",
    "visualize_TI_3D_pyvista(real)"
   ]
  },
  {
   "cell_type": "code",
   "execution_count": 231,
   "metadata": {},
   "outputs": [],
   "source": [
    "##########################################\n",
    "##  original demo for 64x64x1           ##\n",
    "##########################################\n",
    "\n",
    "random_seed = 7771\n",
    "real_nx, real_ny, real_nz = 64, 64, 1\n",
    "template_size = [5, 5, 1]\n",
    "level_size = 2\n",
    "n_level = 4\n",
    "unique_facies = list(np.unique(TI).astype(np.int8))\n",
    "num_hard_data = 5\n",
    "\n",
    "hard_data = pd.DataFrame({\n",
    "'x': np.random.randint(0, real_nx//level_size**n_level, num_hard_data),\n",
    "'y': np.random.randint(0, real_ny//level_size**n_level, num_hard_data),\n",
    "'z': [0 for _ in range(num_hard_data)],\n",
    "'facies': [unique_facies[np.random.randint(0, len(unique_facies))] for _ in range(num_hard_data)]\n",
    "})\n",
    "\n",
    "# hard_data = pd.DataFrame({\n",
    "# 'x': np.linspace(0, real_nx//level_size**n_level, num_hard_data),\n",
    "# 'y': np.linspace(0, real_ny//level_size**n_level, num_hard_data),\n",
    "# 'z': [0 for _ in range(num_hard_data)],\n",
    "# 'facies': [unique_facies[np.random.randint(0, len(unique_facies))] for _ in range(num_hard_data)]\n",
    "# })\n",
    "\n",
    "real = multi_points_modeling_multi_scaled(TI, n_level, level_size, \n",
    "                                          template_size, random_seed, \n",
    "                                          real_nx, real_ny, real_nz, \n",
    "                                          hard_data, verbose = False)"
   ]
  },
  {
   "cell_type": "code",
   "execution_count": null,
   "metadata": {},
   "outputs": [
    {
     "data": {
      "text/plain": [
       "<matplotlib.image.AxesImage at 0x2765df9eb50>"
      ]
     },
     "execution_count": 232,
     "metadata": {},
     "output_type": "execute_result"
    },
    {
     "data": {
      "image/png": "[encoded data removed]",
      "text/plain": [
       "<Figure size 640x480 with 1 Axes>"
      ]
     },
     "metadata": {},
     "output_type": "display_data"
    }
   ],
   "source": [
    "# 2D realization with hard data conditioning \n",
    "plt.imshow(real[::level_size**n_level, ::level_size**n_level, :])"
   ]
  },
  {
   "cell_type": "code",
   "execution_count": null,
   "metadata": {},
   "outputs": [],
   "source": [
    "##########################################\n",
    "##  original demo for 64x64x1           ##\n",
    "##########################################\n",
    "\n",
    "random_seed = 7771\n",
    "real_nx, real_ny, real_nz = 64, 64, 1\n",
    "template_size = [5, 5, 1]\n",
    "level_size = 2\n",
    "n_level = 4\n",
    "\n",
    "real = multi_points_modeling_multi_scaled(TI, n_level, level_size, \n",
    "                                          template_size, random_seed, \n",
    "                                          real_nx, real_ny, real_nz, \n",
    "                                          hard_data= None, verbose = False)"
   ]
  },
  {
   "cell_type": "code",
   "execution_count": null,
   "metadata": {},
   "outputs": [
    {
     "data": {
      "text/plain": [
       "<matplotlib.image.AxesImage at 0x2765ecc5290>"
      ]
     },
     "execution_count": 237,
     "metadata": {},
     "output_type": "execute_result"
    },
    {
     "data": {
      "image/png": "[encoded data removed]",
      "text/plain": [
       "<Figure size 640x480 with 1 Axes>"
      ]
     },
     "metadata": {},
     "output_type": "display_data"
    }
   ],
   "source": [
    "# 2D realization without hard data conditioning\n",
    "plt.imshow(real)"
   ]
  },
  {
   "cell_type": "code",
   "execution_count": null,
   "metadata": {},
   "outputs": [],
   "source": [
    "plt.imshow(TI[:32, :32])"
   ]
  },
  {
   "cell_type": "code",
   "execution_count": null,
   "metadata": {},
   "outputs": [],
   "source": [
    "soft_data = np.ones((32, 32, 1, 2))*-1\n",
    "tau = 0.9\n",
    "soft_data[...,0] = ((1-TI[:32,:32])*tau) + (1-tau)\n",
    "soft_data[...,1] = (TI[:32,:32]*tau) + (1-tau)"
   ]
  },
  {
   "cell_type": "code",
   "execution_count": null,
   "metadata": {},
   "outputs": [],
   "source": [
    "##########################################\n",
    "##  original demo for 128x128x1         ##\n",
    "##########################################\n",
    "\n",
    "random_seed = 7771\n",
    "n_real = 1\n",
    "real_nx, real_ny, real_nz = 32, 32, 1\n",
    "template_size = [5, 5, 1]\n",
    "\n",
    "real = multi_points_modeling(TI, template_size, random_seed, real_nx, real_ny, real_nz, soft_data=soft_data)\n",
    "plt.imshow(real)\n",
    "plt.title(f'{random_seed}')"
   ]
  },
  {
   "cell_type": "code",
   "execution_count": null,
   "metadata": {},
   "outputs": [],
   "source": []
  }
 ],
 "metadata": {
  "colab": {
   "provenance": [
    {
     "file_id": "https://github.com/geomodeller/funny_mps/blob/main/main.ipynb",
     "timestamp": 1740059087727
    }
   ]
  },
  "kernelspec": {
   "display_name": "Python 3",
   "language": "python",
   "name": "python3"
  },
  "language_info": {
   "codemirror_mode": {
    "name": "ipython",
    "version": 3
   },
   "file_extension": ".py",
   "mimetype": "text/x-python",
   "name": "python",
   "nbconvert_exporter": "python",
   "pygments_lexer": "ipython3",
   "version": "3.11.3"
  }
 },
 "nbformat": 4,
 "nbformat_minor": 0
}
