{
 "cells": [
  {
   "cell_type": "code",
   "execution_count": 286,
   "metadata": {
    "colab": {
     "base_uri": "https://localhost:8080/"
    },
    "executionInfo": {
     "elapsed": 2979,
     "status": "ok",
     "timestamp": 1740069054256,
     "user": {
      "displayName": "Honggeun Jo",
      "userId": "01265114581469161587"
     },
     "user_tz": -540
    },
    "id": "mLUyf8eClXJy",
    "outputId": "eeebd763-d31a-4b89-c1f6-7216341999bc"
   },
   "outputs": [
    {
     "name": "stdout",
     "output_type": "stream",
     "text": [
      "The autoreload extension is already loaded. To reload it, use:\n",
      "  %reload_ext autoreload\n"
     ]
    }
   ],
   "source": [
    "%load_ext autoreload\n",
    "%autoreload 2\n",
    "import matplotlib.pyplot as plt\n",
    "import numpy as np\n",
    "import pandas as pd\n",
    "import pyvista as pv\n",
    "from script.multi_points_modeling import multi_points_modeling, multi_points_modeling_multi_scaled, visualize_TI_3D_pyvista\n",
    "\n",
    "TI = np.loadtxt('ti_strebelle.dat', skiprows = 3).reshape(250,250,1)\n",
    "TI_3D = np.concatenate([TI for _ in range(64)], axis=2)  # (250, 250, 10)"
   ]
  },
  {
   "cell_type": "code",
   "execution_count": 287,
   "metadata": {},
   "outputs": [
    {
     "data": {
      "application/vnd.jupyter.widget-view+json": {
       "model_id": "439826d84d7146fbb18b09157f7c76bd",
       "version_major": 2,
       "version_minor": 0
      },
      "text/plain": [
       "Widget(value='<iframe src=\"http://localhost:58942/index.html?ui=P_0x275a62c9490_15&reconnect=auto\" class=\"pyvi…"
      ]
     },
     "metadata": {},
     "output_type": "display_data"
    }
   ],
   "source": [
    "# visulaization 3D training image\n",
    "visualize_TI_3D_pyvista(TI_3D)"
   ]
  },
  {
   "cell_type": "code",
   "execution_count": null,
   "metadata": {},
   "outputs": [
    {
     "name": "stdout",
     "output_type": "stream",
     "text": [
      "[MPS] multi-scale MPS starts\n",
      "------------------------------\n",
      "<Scale 3 start> Grid size is (32, 32, 1)\n",
      "... starting [curate_training_image]\n",
      "==> finishing [curate_training_image] in 0.00 seconds\n",
      "... [_preprocessing_MPS] hard data is conditioned\n",
      "... starting [_run_mps]\n",
      "==> finishing [_run_mps] in 0.15 seconds.\n",
      "<Scale 3 start> Done\n",
      "no no no\n",
      "------------------------------\n",
      "<Scale 2 start> Grid size is (64, 64, 2)\n",
      "... starting [curate_training_image]\n",
      "==> finishing [curate_training_image] in 0.05 seconds\n",
      "... [_preprocessing_MPS] hard data is conditioned\n",
      "... starting [_run_mps]\n",
      "==> finishing [_run_mps] in 4.00 seconds.\n",
      "<Scale 2 start> Done\n",
      "no no no\n",
      "------------------------------\n",
      "<Scale 1 start> Grid size is (128, 128, 4)\n",
      "... starting [curate_training_image]\n",
      "==> finishing [curate_training_image] in 0.45 seconds\n",
      "... [_preprocessing_MPS] hard data is conditioned\n",
      "... starting [_run_mps]\n",
      "==> finishing [_run_mps] in 514.25 seconds.\n",
      "<Scale 1 start> Done\n"
     ]
    }
   ],
   "source": [
    "##########################################\n",
    "##  original demo for 256x256x8         ##\n",
    "##########################################\n",
    "\n",
    "random_seed = 7771\n",
    "real_nx, real_ny, real_nz = 256, 256, 8\n",
    "template_size = [5, 5, 5]\n",
    "level_size = 2\n",
    "n_level = 4\n",
    "unique_facies = list(np.unique(TI_3D).astype(np.int8))\n",
    "num_hard_data = 3\n",
    "\n",
    "real = multi_points_modeling_multi_scaled(TI_3D, n_level, level_size, \n",
    "                                          template_size, random_seed, \n",
    "                                          real_nx, real_ny, real_nz, \n",
    "                                          hard_data = None, verbose = True)"
   ]
  },
  {
   "cell_type": "code",
   "execution_count": 303,
   "metadata": {},
   "outputs": [
    {
     "data": {
      "application/vnd.jupyter.widget-view+json": {
       "model_id": "184fa9f32c8b43dea955161c607755a1",
       "version_major": 2,
       "version_minor": 0
      },
      "text/plain": [
       "Widget(value='<iframe src=\"http://localhost:58942/index.html?ui=P_0x275f33ac4d0_23&reconnect=auto\" class=\"pyvi…"
      ]
     },
     "metadata": {},
     "output_type": "display_data"
    }
   ],
   "source": [
    "# 3D realization without hard data conditioning\n",
    "# 256 256 8\n",
    "visualize_TI_3D_pyvista(real)"
   ]
  },
  {
   "cell_type": "code",
   "execution_count": 306,
   "metadata": {},
   "outputs": [
    {
     "name": "stdout",
     "output_type": "stream",
     "text": [
      "[MPS] multi-scale MPS starts\n",
      "------------------------------\n",
      "<Scale 3 start> Grid size is (8, 8, 1)\n",
      "... starting [curate_training_image]\n",
      "==> finishing [curate_training_image] in 0.00 seconds\n",
      "... [_preprocessing_MPS] hard data is conditioned\n",
      "... starting [_run_mps]\n",
      "==> finishing [_run_mps] in 0.01 seconds.\n",
      "<Scale 3 start> Done\n",
      "no no no\n",
      "------------------------------\n",
      "<Scale 2 start> Grid size is (16, 16, 2)\n",
      "... starting [curate_training_image]\n",
      "==> finishing [curate_training_image] in 0.04 seconds\n",
      "... [_preprocessing_MPS] hard data is conditioned\n",
      "... starting [_run_mps]\n",
      "==> finishing [_run_mps] in 0.26 seconds.\n",
      "<Scale 2 start> Done\n",
      "no no no\n",
      "------------------------------\n",
      "<Scale 1 start> Grid size is (32, 32, 4)\n",
      "... starting [curate_training_image]\n",
      "==> finishing [curate_training_image] in 0.40 seconds\n",
      "... [_preprocessing_MPS] hard data is conditioned\n",
      "... starting [_run_mps]\n",
      "==> finishing [_run_mps] in 34.16 seconds.\n",
      "<Scale 1 start> Done\n"
     ]
    }
   ],
   "source": [
    "##########################################\n",
    "##  original demo for 256x256x8         ##\n",
    "##########################################\n",
    "\n",
    "random_seed = 7771\n",
    "real_nx, real_ny, real_nz = 64, 64, 8\n",
    "template_size = [5, 5, 5]\n",
    "level_size = 2\n",
    "n_level = 4\n",
    "unique_facies = list(np.unique(TI_3D).astype(np.int8))\n",
    "num_hard_data = 3\n",
    "\n",
    "real = multi_points_modeling_multi_scaled(TI_3D, n_level, level_size, \n",
    "                                          template_size, random_seed, \n",
    "                                          real_nx, real_ny, real_nz, \n",
    "                                          hard_data = None, verbose = True)"
   ]
  },
  {
   "cell_type": "code",
   "execution_count": 307,
   "metadata": {},
   "outputs": [
    {
     "data": {
      "application/vnd.jupyter.widget-view+json": {
       "model_id": "6f5f49cc73c34e7aa622afd28f746a94",
       "version_major": 2,
       "version_minor": 0
      },
      "text/plain": [
       "Widget(value='<iframe src=\"http://localhost:58942/index.html?ui=P_0x275f3469c90_25&reconnect=auto\" class=\"pyvi…"
      ]
     },
     "metadata": {},
     "output_type": "display_data"
    }
   ],
   "source": [
    "# 3D realization without hard data conditioning\n",
    "# 64 64 8\n",
    "visualize_TI_3D_pyvista(real)"
   ]
  },
  {
   "cell_type": "code",
   "execution_count": null,
   "metadata": {},
   "outputs": [
    {
     "name": "stdout",
     "output_type": "stream",
     "text": [
      "[MPS] multi-scale MPS starts\n",
      "------------------------------\n",
      "<Scale 2 start> Grid size is (16, 16, 2)\n",
      "... starting [curate_training_image]\n",
      "==> finishing [curate_training_image] in 0.04 seconds\n"
     ]
    },
    {
     "ename": "ValueError",
     "evalue": "could not broadcast input array from shape (3,4) into shape (16,16,2)",
     "output_type": "error",
     "traceback": [
      "\u001b[1;31m---------------------------------------------------------------------------\u001b[0m",
      "\u001b[1;31mValueError\u001b[0m                                Traceback (most recent call last)",
      "Cell \u001b[1;32mIn[308], line 18\u001b[0m\n\u001b[0;32m     11\u001b[0m num_hard_data \u001b[38;5;241m=\u001b[39m \u001b[38;5;241m3\u001b[39m\n\u001b[0;32m     12\u001b[0m hard_data \u001b[38;5;241m=\u001b[39m pd\u001b[38;5;241m.\u001b[39mDataFrame({\n\u001b[0;32m     13\u001b[0m     \u001b[38;5;124m'\u001b[39m\u001b[38;5;124mx\u001b[39m\u001b[38;5;124m'\u001b[39m: np\u001b[38;5;241m.\u001b[39mrandom\u001b[38;5;241m.\u001b[39mrandint(\u001b[38;5;241m0\u001b[39m, real_nx\u001b[38;5;241m/\u001b[39m\u001b[38;5;241m/\u001b[39mlevel_size\u001b[38;5;241m*\u001b[39m\u001b[38;5;241m*\u001b[39mn_level, num_hard_data),\n\u001b[0;32m     14\u001b[0m     \u001b[38;5;124m'\u001b[39m\u001b[38;5;124my\u001b[39m\u001b[38;5;124m'\u001b[39m: np\u001b[38;5;241m.\u001b[39mrandom\u001b[38;5;241m.\u001b[39mrandint(\u001b[38;5;241m0\u001b[39m, real_ny\u001b[38;5;241m/\u001b[39m\u001b[38;5;241m/\u001b[39mlevel_size\u001b[38;5;241m*\u001b[39m\u001b[38;5;241m*\u001b[39mn_level, num_hard_data),\n\u001b[0;32m     15\u001b[0m     \u001b[38;5;124m'\u001b[39m\u001b[38;5;124mz\u001b[39m\u001b[38;5;124m'\u001b[39m: np\u001b[38;5;241m.\u001b[39mrandom\u001b[38;5;241m.\u001b[39mrandint(\u001b[38;5;241m0\u001b[39m, real_nz\u001b[38;5;241m/\u001b[39m\u001b[38;5;241m/\u001b[39mlevel_size\u001b[38;5;241m*\u001b[39m\u001b[38;5;241m*\u001b[39mn_level, num_hard_data),\n\u001b[0;32m     16\u001b[0m     \u001b[38;5;124m'\u001b[39m\u001b[38;5;124mfacies\u001b[39m\u001b[38;5;124m'\u001b[39m: [unique_facies[np\u001b[38;5;241m.\u001b[39mrandom\u001b[38;5;241m.\u001b[39mrandint(\u001b[38;5;241m0\u001b[39m, \u001b[38;5;28mlen\u001b[39m(unique_facies))] \u001b[38;5;28;01mfor\u001b[39;00m _ \u001b[38;5;129;01min\u001b[39;00m \u001b[38;5;28mrange\u001b[39m(num_hard_data)]\n\u001b[0;32m     17\u001b[0m })\n\u001b[1;32m---> 18\u001b[0m real \u001b[38;5;241m=\u001b[39m \u001b[43mmulti_points_modeling_multi_scaled\u001b[49m\u001b[43m(\u001b[49m\u001b[43mTI_3D\u001b[49m\u001b[43m,\u001b[49m\u001b[43m \u001b[49m\u001b[43mn_level\u001b[49m\u001b[43m,\u001b[49m\u001b[43m \u001b[49m\u001b[43mlevel_size\u001b[49m\u001b[43m,\u001b[49m\u001b[43m \u001b[49m\n\u001b[0;32m     19\u001b[0m \u001b[43m                                          \u001b[49m\u001b[43mtemplate_size\u001b[49m\u001b[43m,\u001b[49m\u001b[43m \u001b[49m\u001b[43mrandom_seed\u001b[49m\u001b[43m,\u001b[49m\u001b[43m \u001b[49m\n\u001b[0;32m     20\u001b[0m \u001b[43m                                          \u001b[49m\u001b[43mreal_nx\u001b[49m\u001b[43m,\u001b[49m\u001b[43m \u001b[49m\u001b[43mreal_ny\u001b[49m\u001b[43m,\u001b[49m\u001b[43m \u001b[49m\u001b[43mreal_nz\u001b[49m\u001b[43m,\u001b[49m\u001b[43m \u001b[49m\n\u001b[0;32m     21\u001b[0m \u001b[43m                                          \u001b[49m\u001b[43mhard_data\u001b[49m\u001b[43m,\u001b[49m\u001b[43m \u001b[49m\u001b[43mverbose\u001b[49m\u001b[43m \u001b[49m\u001b[38;5;241;43m=\u001b[39;49m\u001b[43m \u001b[49m\u001b[38;5;28;43;01mTrue\u001b[39;49;00m\u001b[43m)\u001b[49m\n",
      "File \u001b[1;32mc:\\git_project\\funny_mps_v2\\script\\multi_points_modeling.py:367\u001b[0m, in \u001b[0;36mmulti_points_modeling_multi_scaled\u001b[1;34m(TI, n_level, level_size, template_size, random_seed, real_nx, real_ny, real_nz, hard_data, verbose, return_muti_scale_real)\u001b[0m\n\u001b[0;32m    365\u001b[0m     \u001b[38;5;28mprint\u001b[39m(\u001b[38;5;124m\"\u001b[39m\u001b[38;5;124m---\u001b[39m\u001b[38;5;124m\"\u001b[39m\u001b[38;5;241m*\u001b[39m\u001b[38;5;241m10\u001b[39m)\n\u001b[0;32m    366\u001b[0m     \u001b[38;5;28mprint\u001b[39m(\u001b[38;5;124mf\u001b[39m\u001b[38;5;124m'\u001b[39m\u001b[38;5;124m<Scale \u001b[39m\u001b[38;5;132;01m{\u001b[39;00mlevel\u001b[38;5;132;01m}\u001b[39;00m\u001b[38;5;124m start> Grid size is \u001b[39m\u001b[38;5;132;01m{\u001b[39;00mgrid_size_at_level\u001b[38;5;132;01m}\u001b[39;00m\u001b[38;5;124m'\u001b[39m)\n\u001b[1;32m--> 367\u001b[0m real \u001b[38;5;241m=\u001b[39m \u001b[43mmulti_points_modeling\u001b[49m\u001b[43m(\u001b[49m\u001b[43mTI_at_level\u001b[49m\u001b[43m,\u001b[49m\u001b[43m \u001b[49m\n\u001b[0;32m    368\u001b[0m \u001b[43m                            \u001b[49m\u001b[43mtemplate_size\u001b[49m\u001b[43m,\u001b[49m\u001b[43m \u001b[49m\n\u001b[0;32m    369\u001b[0m \u001b[43m                            \u001b[49m\u001b[43mrandom_seed\u001b[49m\u001b[43m,\u001b[49m\u001b[43m \u001b[49m\n\u001b[0;32m    370\u001b[0m \u001b[43m                            \u001b[49m\u001b[43mgrid_size_at_level\u001b[49m\u001b[43m[\u001b[49m\u001b[38;5;241;43m0\u001b[39;49m\u001b[43m]\u001b[49m\u001b[43m,\u001b[49m\u001b[43m \u001b[49m\u001b[43mgrid_size_at_level\u001b[49m\u001b[43m[\u001b[49m\u001b[38;5;241;43m1\u001b[39;49m\u001b[43m]\u001b[49m\u001b[43m,\u001b[49m\u001b[43m \u001b[49m\u001b[43mgrid_size_at_level\u001b[49m\u001b[43m[\u001b[49m\u001b[38;5;241;43m2\u001b[39;49m\u001b[43m]\u001b[49m\u001b[43m,\u001b[49m\u001b[43m \u001b[49m\n\u001b[0;32m    371\u001b[0m \u001b[43m                            \u001b[49m\u001b[43mreal\u001b[49m\u001b[43m,\u001b[49m\u001b[43m \u001b[49m\n\u001b[0;32m    372\u001b[0m \u001b[43m                            \u001b[49m\u001b[43mverbose\u001b[49m\u001b[38;5;241;43m=\u001b[39;49m\u001b[43mverbose\u001b[49m\u001b[43m)\u001b[49m\n\u001b[0;32m    373\u001b[0m real_s\u001b[38;5;241m.\u001b[39mappend(real)\n\u001b[0;32m    374\u001b[0m \u001b[38;5;28;01mif\u001b[39;00m verbose:\n",
      "File \u001b[1;32mc:\\git_project\\funny_mps_v2\\script\\multi_points_modeling.py:131\u001b[0m, in \u001b[0;36mmulti_points_modeling\u001b[1;34m(TI_3D, template_size, random_seed, real_nx, real_ny, real_nz, hard_data, soft_data, verbose)\u001b[0m\n\u001b[0;32m    102\u001b[0m \u001b[38;5;28;01mdef\u001b[39;00m\u001b[38;5;250m \u001b[39m\u001b[38;5;21mmulti_points_modeling\u001b[39m(TI_3D, \n\u001b[0;32m    103\u001b[0m                           template_size, \n\u001b[0;32m    104\u001b[0m                           random_seed, \n\u001b[1;32m   (...)\u001b[0m\n\u001b[0;32m    107\u001b[0m                           soft_data \u001b[38;5;241m=\u001b[39m \u001b[38;5;28;01mNone\u001b[39;00m,\n\u001b[0;32m    108\u001b[0m                           verbose \u001b[38;5;241m=\u001b[39m \u001b[38;5;28;01mFalse\u001b[39;00m):\n\u001b[0;32m    110\u001b[0m \u001b[38;5;250m    \u001b[39m\u001b[38;5;124;03m\"\"\"\u001b[39;00m\n\u001b[0;32m    111\u001b[0m \u001b[38;5;124;03m    Generates a realization grid mimicking the patterns found in the Training Image (TI),\u001b[39;00m\n\u001b[0;32m    112\u001b[0m \u001b[38;5;124;03m    optionally conditioned to hard data.\u001b[39;00m\n\u001b[1;32m   (...)\u001b[0m\n\u001b[0;32m    129\u001b[0m \u001b[38;5;124;03m        np.ndarray: The generated realization grid with shape (real_nx, real_ny, real_nz).\u001b[39;00m\n\u001b[0;32m    130\u001b[0m \u001b[38;5;124;03m    \"\"\"\u001b[39;00m\n\u001b[1;32m--> 131\u001b[0m     realization, [facies_ratio, unique_facies], [data_x, data_y, flag], random_path \u001b[38;5;241m=\u001b[39m \u001b[43m_preprocessing_MPS\u001b[49m\u001b[43m(\u001b[49m\u001b[43mTI_3D\u001b[49m\u001b[43m,\u001b[49m\u001b[43m \u001b[49m\n\u001b[0;32m    132\u001b[0m \u001b[43m                                                                                                    \u001b[49m\u001b[43mtemplate_size\u001b[49m\u001b[43m,\u001b[49m\u001b[43m  \u001b[49m\n\u001b[0;32m    133\u001b[0m \u001b[43m                                                                                                    \u001b[49m\u001b[43mreal_nx\u001b[49m\u001b[43m,\u001b[49m\u001b[43m \u001b[49m\u001b[43mreal_ny\u001b[49m\u001b[43m,\u001b[49m\u001b[43m \u001b[49m\u001b[43mreal_nz\u001b[49m\u001b[43m,\u001b[49m\u001b[43m \u001b[49m\n\u001b[0;32m    134\u001b[0m \u001b[43m                                                                                                    \u001b[49m\u001b[43mhard_data\u001b[49m\u001b[43m \u001b[49m\u001b[38;5;241;43m=\u001b[39;49m\u001b[43m \u001b[49m\u001b[43mhard_data\u001b[49m\u001b[43m,\u001b[49m\n\u001b[0;32m    135\u001b[0m \u001b[43m                                                                                                    \u001b[49m\u001b[43mverbose\u001b[49m\u001b[43m \u001b[49m\u001b[38;5;241;43m=\u001b[39;49m\u001b[43m \u001b[49m\u001b[43mverbose\u001b[49m\u001b[43m)\u001b[49m\n\u001b[0;32m    136\u001b[0m     padding_x, padding_y, padding_z \u001b[38;5;241m=\u001b[39m \u001b[38;5;28mint\u001b[39m((template_size[\u001b[38;5;241m0\u001b[39m]\u001b[38;5;241m-\u001b[39m\u001b[38;5;241m1\u001b[39m)\u001b[38;5;241m/\u001b[39m\u001b[38;5;241m2\u001b[39m), \u001b[38;5;28mint\u001b[39m((template_size[\u001b[38;5;241m1\u001b[39m]\u001b[38;5;241m-\u001b[39m\u001b[38;5;241m1\u001b[39m)\u001b[38;5;241m/\u001b[39m\u001b[38;5;241m2\u001b[39m), \u001b[38;5;28mint\u001b[39m((template_size[\u001b[38;5;241m2\u001b[39m]\u001b[38;5;241m-\u001b[39m\u001b[38;5;241m1\u001b[39m)\u001b[38;5;241m/\u001b[39m\u001b[38;5;241m2\u001b[39m)\n\u001b[0;32m    139\u001b[0m     \u001b[38;5;66;03m# for one iteration - randomly generate realization\u001b[39;00m\n",
      "File \u001b[1;32mc:\\git_project\\funny_mps_v2\\script\\multi_points_modeling.py:328\u001b[0m, in \u001b[0;36m_preprocessing_MPS\u001b[1;34m(TI_3D, template_size, real_nx, real_ny, real_nz, hard_data, verbose)\u001b[0m\n\u001b[0;32m    326\u001b[0m \u001b[38;5;28;01mif\u001b[39;00m hard_data \u001b[38;5;129;01mis\u001b[39;00m \u001b[38;5;129;01mnot\u001b[39;00m \u001b[38;5;28;01mNone\u001b[39;00m:\n\u001b[0;32m    327\u001b[0m     \u001b[38;5;28;01mif\u001b[39;00m padding_z \u001b[38;5;241m!=\u001b[39m \u001b[38;5;241m0\u001b[39m:\n\u001b[1;32m--> 328\u001b[0m         \u001b[43mrealization\u001b[49m\u001b[43m[\u001b[49m\u001b[43mpadding_x\u001b[49m\u001b[43m:\u001b[49m\u001b[38;5;241;43m-\u001b[39;49m\u001b[43mpadding_x\u001b[49m\u001b[43m,\u001b[49m\u001b[43m \u001b[49m\u001b[43mpadding_y\u001b[49m\u001b[43m:\u001b[49m\u001b[38;5;241;43m-\u001b[39;49m\u001b[43mpadding_y\u001b[49m\u001b[43m,\u001b[49m\u001b[43m \u001b[49m\u001b[43mpadding_z\u001b[49m\u001b[43m:\u001b[49m\u001b[38;5;241;43m-\u001b[39;49m\u001b[43mpadding_z\u001b[49m\u001b[43m]\u001b[49m \u001b[38;5;241m=\u001b[39m hard_data\n\u001b[0;32m    329\u001b[0m     \u001b[38;5;28;01melse\u001b[39;00m:\n\u001b[0;32m    330\u001b[0m         realization[padding_x:\u001b[38;5;241m-\u001b[39mpadding_x, padding_y:\u001b[38;5;241m-\u001b[39mpadding_y, :] \u001b[38;5;241m=\u001b[39m hard_data\n",
      "\u001b[1;31mValueError\u001b[0m: could not broadcast input array from shape (3,4) into shape (16,16,2)"
     ]
    }
   ],
   "source": [
    "##########################################\n",
    "##  original demo for          ##\n",
    "##########################################\n",
    "\n",
    "random_seed = 7771\n",
    "real_nx, real_ny, real_nz = 64, 64, 8\n",
    "template_size = [5, 5, 5]\n",
    "level_size = 2\n",
    "n_level = 3\n",
    "unique_facies = list(np.unique(TI_3D).astype(np.int8))\n",
    "num_hard_data = 3\n",
    "hard_data = pd.DataFrame({\n",
    "    'x': np.random.randint(0, real_nx//level_size**n_level, num_hard_data),\n",
    "    'y': np.random.randint(0, real_ny//level_size**n_level, num_hard_data),\n",
    "    'z': np.random.randint(0, real_nz//level_size**n_level, num_hard_data),\n",
    "    'facies': [unique_facies[np.random.randint(0, len(unique_facies))] for _ in range(num_hard_data)]\n",
    "})\n",
    "real = multi_points_modeling_multi_scaled(TI_3D, n_level, level_size, \n",
    "                                          template_size, random_seed, \n",
    "                                          real_nx, real_ny, real_nz, \n",
    "                                          hard_data = hard_data, verbose = True)"
   ]
  },
  {
   "cell_type": "code",
   "execution_count": null,
   "metadata": {},
   "outputs": [],
   "source": [
    "##########################################\n",
    "##  original demo for 64x64x1           ##\n",
    "##########################################\n",
    "\n",
    "random_seed = 7771\n",
    "real_nx, real_ny, real_nz = 64, 64, 1\n",
    "template_size = [5, 5, 1]\n",
    "level_size = 2\n",
    "n_level = 4\n",
    "\n",
    "real = multi_points_modeling_multi_scaled(TI, n_level, level_size, \n",
    "                                          template_size, random_seed, \n",
    "                                          real_nx, real_ny, real_nz, \n",
    "                                          hard_data= None, verbose = False)"
   ]
  },
  {
   "cell_type": "code",
   "execution_count": null,
   "metadata": {},
   "outputs": [
    {
     "data": {
      "text/plain": [
       "<matplotlib.image.AxesImage at 0x2765ecc5290>"
      ]
     },
     "execution_count": 237,
     "metadata": {},
     "output_type": "execute_result"
    },
    {
     "data": {
      "image/png": "[encoded data removed]",
      "text/plain": [
       "<Figure size 640x480 with 1 Axes>"
      ]
     },
     "metadata": {},
     "output_type": "display_data"
    }
   ],
   "source": [
    "# 2D realization without hard data conditioning\n",
    "plt.imshow(real)"
   ]
  },
  {
   "cell_type": "code",
   "execution_count": null,
   "metadata": {},
   "outputs": [],
   "source": [
    "plt.imshow(TI[:32, :32])"
   ]
  },
  {
   "cell_type": "code",
   "execution_count": null,
   "metadata": {},
   "outputs": [],
   "source": [
    "soft_data = np.ones((32, 32, 1, 2))*-1\n",
    "tau = 0.9\n",
    "soft_data[...,0] = ((1-TI[:32,:32])*tau) + (1-tau)\n",
    "soft_data[...,1] = (TI[:32,:32]*tau) + (1-tau)"
   ]
  },
  {
   "cell_type": "code",
   "execution_count": null,
   "metadata": {},
   "outputs": [],
   "source": [
    "##########################################\n",
    "##  original demo for 128x128x1         ##\n",
    "##########################################\n",
    "\n",
    "random_seed = 7771\n",
    "n_real = 1\n",
    "real_nx, real_ny, real_nz = 32, 32, 1\n",
    "template_size = [5, 5, 1]\n",
    "\n",
    "real = multi_points_modeling(TI, template_size, random_seed, real_nx, real_ny, real_nz, soft_data=soft_data)\n",
    "plt.imshow(real)\n",
    "plt.title(f'{random_seed}')"
   ]
  },
  {
   "cell_type": "code",
   "execution_count": null,
   "metadata": {},
   "outputs": [],
   "source": []
  }
 ],
 "metadata": {
  "colab": {
   "provenance": [
    {
     "file_id": "https://github.com/geomodeller/funny_mps/blob/main/main.ipynb",
     "timestamp": 1740059087727
    }
   ]
  },
  "kernelspec": {
   "display_name": "Python 3",
   "language": "python",
   "name": "python3"
  },
  "language_info": {
   "codemirror_mode": {
    "name": "ipython",
    "version": 3
   },
   "file_extension": ".py",
   "mimetype": "text/x-python",
   "name": "python",
   "nbconvert_exporter": "python",
   "pygments_lexer": "ipython3",
   "version": "3.11.3"
  }
 },
 "nbformat": 4,
 "nbformat_minor": 0
}
