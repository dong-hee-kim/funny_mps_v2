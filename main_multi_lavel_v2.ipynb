{
 "cells": [
  {
   "cell_type": "code",
   "execution_count": 610,
   "metadata": {
    "colab": {
     "base_uri": "https://localhost:8080/"
    },
    "executionInfo": {
     "elapsed": 2979,
     "status": "ok",
     "timestamp": 1740069054256,
     "user": {
      "displayName": "Honggeun Jo",
      "userId": "01265114581469161587"
     },
     "user_tz": -540
    },
    "id": "mLUyf8eClXJy",
    "outputId": "eeebd763-d31a-4b89-c1f6-7216341999bc"
   },
   "outputs": [
    {
     "name": "stdout",
     "output_type": "stream",
     "text": [
      "The autoreload extension is already loaded. To reload it, use:\n",
      "  %reload_ext autoreload\n"
     ]
    }
   ],
   "source": [
    "%load_ext autoreload\n",
    "%autoreload 2\n",
    "import matplotlib.pyplot as plt\n",
    "import numpy as np\n",
    "import pandas as pd\n",
    "from script.multi_points_modeling import multi_points_modeling, multi_points_modeling_multi_scaled, visualize_TI_3D_pyvista\n",
    "\n",
    "TI = np.loadtxt('ti_strebelle.dat', skiprows = 3).reshape(250,250,1)\n",
    "TI_3D = np.concatenate([TI for _ in range(64)], axis=2)  # (250, 250, 10)"
   ]
  },
  {
   "cell_type": "code",
   "execution_count": 611,
   "metadata": {},
   "outputs": [
    {
     "data": {
      "application/vnd.jupyter.widget-view+json": {
       "model_id": "c2f598008e1d4c27ac200d857110599a",
       "version_major": 2,
       "version_minor": 0
      },
      "text/plain": [
       "Widget(value='<iframe src=\"http://localhost:58942/index.html?ui=P_0x27759f90e90_69&reconnect=auto\" class=\"pyvi…"
      ]
     },
     "metadata": {},
     "output_type": "display_data"
    }
   ],
   "source": [
    "# visulaization 3D training image\n",
    "visualize_TI_3D_pyvista(TI_3D)"
   ]
  },
  {
   "cell_type": "code",
   "execution_count": null,
   "metadata": {},
   "outputs": [
    {
     "name": "stdout",
     "output_type": "stream",
     "text": [
      "[MPS] multi-scale MPS starts\n",
      "------------------------------\n",
      "<Scale 3 start> Grid size is (8, 8, 1)\n",
      "... starting [curate_training_image]\n",
      "==> finishing [curate_training_image] in 0.00 seconds\n",
      "... [_preprocessing_MPS] hard data is conditioned\n",
      "... starting [_run_mps]\n",
      "==> finishing [_run_mps] in 0.21 seconds.\n",
      "<Scale 3 start> Done\n",
      "no no no\n",
      "------------------------------\n",
      "<Scale 2 start> Grid size is (16, 16, 2)\n",
      "... starting [curate_training_image]\n",
      "==> finishing [curate_training_image] in 0.06 seconds\n",
      "... [_preprocessing_MPS] hard data is conditioned\n",
      "... starting [_run_mps]\n",
      "==> finishing [_run_mps] in 0.28 seconds.\n",
      "<Scale 2 start> Done\n",
      "no no no\n",
      "------------------------------\n",
      "<Scale 1 start> Grid size is (32, 32, 4)\n",
      "... starting [curate_training_image]\n",
      "==> finishing [curate_training_image] in 0.43 seconds\n",
      "... [_preprocessing_MPS] hard data is conditioned\n",
      "... starting [_run_mps]\n",
      "==> finishing [_run_mps] in 36.93 seconds.\n",
      "<Scale 1 start> Done\n"
     ]
    }
   ],
   "source": [
    "####################################################################\n",
    "##  original demo without hard data conditioning for 64 x 64 x 8  ##\n",
    "####################################################################\n",
    "\n",
    "random_seed = 7771\n",
    "real_nx, real_ny, real_nz = 64, 64, 8\n",
    "template_size = [5, 5, 5]\n",
    "level_size = 2\n",
    "n_level = 4\n",
    "unique_facies = list(np.unique(TI_3D).astype(np.int8))\n",
    "num_hard_data = 3\n",
    "\n",
    "real = multi_points_modeling_multi_scaled(TI_3D, n_level, level_size, \n",
    "                                          template_size, random_seed, \n",
    "                                          real_nx, real_ny, real_nz, \n",
    "                                          hard_data = None, verbose = True)"
   ]
  },
  {
   "cell_type": "code",
   "execution_count": null,
   "metadata": {},
   "outputs": [
    {
     "data": {
      "application/vnd.jupyter.widget-view+json": {
       "model_id": "4de4d434b8ce4715a8fab0a25c871dce",
       "version_major": 2,
       "version_minor": 0
      },
      "text/plain": [
       "Widget(value='<iframe src=\"http://localhost:58942/index.html?ui=P_0x276a2657a10_73&reconnect=auto\" class=\"pyvi…"
      ]
     },
     "metadata": {},
     "output_type": "display_data"
    }
   ],
   "source": [
    "# 3D realization without hard data conditioning\n",
    "# 64 64 8\n",
    "visualize_TI_3D_pyvista(real)"
   ]
  },
  {
   "cell_type": "code",
   "execution_count": 677,
   "metadata": {},
   "outputs": [
    {
     "name": "stdout",
     "output_type": "stream",
     "text": [
      "[MPS] multi-scale MPS starts\n",
      "------------------------------\n",
      "<Scale 3 start> Grid size is (8, 8, 1)\n",
      "... starting [curate_training_image]\n",
      "==> finishing [curate_training_image] in 0.00 seconds\n",
      "... [_preprocessing_MPS] hard data is conditioned\n",
      "... starting [_run_mps]\n",
      "==> finishing [_run_mps] in 0.01 seconds.\n",
      "<Scale 3 start> Done\n",
      "no no no\n",
      "------------------------------\n",
      "<Scale 2 start> Grid size is (16, 16, 2)\n",
      "... starting [curate_training_image]\n",
      "==> finishing [curate_training_image] in 0.04 seconds\n",
      "... [_preprocessing_MPS] hard data is conditioned\n",
      "... starting [_run_mps]\n",
      "==> finishing [_run_mps] in 0.24 seconds.\n",
      "<Scale 2 start> Done\n",
      "no no no\n",
      "------------------------------\n",
      "<Scale 1 start> Grid size is (32, 32, 4)\n",
      "... starting [curate_training_image]\n",
      "==> finishing [curate_training_image] in 0.43 seconds\n",
      "... [_preprocessing_MPS] hard data is conditioned\n",
      "... starting [_run_mps]\n",
      "==> finishing [_run_mps] in 37.26 seconds.\n",
      "<Scale 1 start> Done\n"
     ]
    }
   ],
   "source": [
    "##################################################################\n",
    "##  original demo with hard data conditioningfor 64 x 64 x 8   ##\n",
    "##################################################################\n",
    "\n",
    "random_seed = 7771\n",
    "real_nx, real_ny, real_nz = 64, 64, 8\n",
    "template_size = [5, 5, 5]\n",
    "level_size = 2\n",
    "n_level = 4\n",
    "unique_facies = list(np.unique(TI_3D).astype(np.int8))\n",
    "num_hard_data = 3\n",
    "\n",
    "z_max = max(1, real_nz)\n",
    "hard_data = pd.DataFrame({\n",
    "    'x': np.random.randint(0, real_nx, num_hard_data),\n",
    "    'y': np.random.randint(0, real_ny, num_hard_data),\n",
    "    'z': np.random.randint(0, z_max, num_hard_data),\n",
    "    'facies': [unique_facies[np.random.randint(0, len(unique_facies))] for _ in range(num_hard_data)]\n",
    "})\n",
    "\n",
    "real = multi_points_modeling_multi_scaled(TI_3D, n_level, level_size, \n",
    "                                          template_size, random_seed, \n",
    "                                          real_nx, real_ny, real_nz, \n",
    "                                          hard_data = hard_data, verbose = True)"
   ]
  },
  {
   "cell_type": "code",
   "execution_count": 678,
   "metadata": {},
   "outputs": [
    {
     "data": {
      "application/vnd.jupyter.widget-view+json": {
       "model_id": "0f8dee0b00794f75a9c8f375547f19e6",
       "version_major": 2,
       "version_minor": 0
      },
      "text/plain": [
       "Widget(value='<iframe src=\"http://localhost:58942/index.html?ui=P_0x275a1545e50_79&reconnect=auto\" class=\"pyvi…"
      ]
     },
     "metadata": {},
     "output_type": "display_data"
    }
   ],
   "source": [
    "visualize_TI_3D_pyvista(real)"
   ]
  },
  {
   "cell_type": "code",
   "execution_count": null,
   "metadata": {},
   "outputs": [],
   "source": [
    "##########################################\n",
    "##  original demo for 64x64x1           ##\n",
    "##########################################\n",
    "\n",
    "random_seed = 7771\n",
    "real_nx, real_ny, real_nz = 64, 64, 1\n",
    "template_size = [5, 5, 1]\n",
    "level_size = 2\n",
    "n_level = 4\n",
    "\n",
    "real = multi_points_modeling_multi_scaled(TI, n_level, level_size, \n",
    "                                          template_size, random_seed, \n",
    "                                          real_nx, real_ny, real_nz, \n",
    "                                          hard_data= None, verbose = False)"
   ]
  },
  {
   "cell_type": "code",
   "execution_count": null,
   "metadata": {},
   "outputs": [
    {
     "data": {
      "text/plain": [
       "<matplotlib.image.AxesImage at 0x2765ecc5290>"
      ]
     },
     "execution_count": 237,
     "metadata": {},
     "output_type": "execute_result"
    },
    {
     "data": {
      "image/png": "[encoded data removed]",
      "text/plain": [
       "<Figure size 640x480 with 1 Axes>"
      ]
     },
     "metadata": {},
     "output_type": "display_data"
    }
   ],
   "source": [
    "# 2D realization without hard data conditioning\n",
    "plt.imshow(real)"
   ]
  },
  {
   "cell_type": "code",
   "execution_count": 679,
   "metadata": {},
   "outputs": [
    {
     "data": {
      "text/plain": [
       "<matplotlib.image.AxesImage at 0x2779de6bd90>"
      ]
     },
     "execution_count": 679,
     "metadata": {},
     "output_type": "execute_result"
    },
    {
     "data": {
      "image/png": "[encoded data removed]",
      "text/plain": [
       "<Figure size 640x480 with 1 Axes>"
      ]
     },
     "metadata": {},
     "output_type": "display_data"
    }
   ],
   "source": [
    "plt.imshow(TI[:32, :32])"
   ]
  },
  {
   "cell_type": "code",
   "execution_count": 680,
   "metadata": {},
   "outputs": [],
   "source": [
    "soft_data = np.ones((32, 32, 1, 2))*-1\n",
    "tau = 0.9\n",
    "soft_data[...,0] = ((1-TI[:32,:32])*tau) + (1-tau)\n",
    "soft_data[...,1] = (TI[:32,:32]*tau) + (1-tau)"
   ]
  },
  {
   "cell_type": "code",
   "execution_count": 682,
   "metadata": {},
   "outputs": [
    {
     "data": {
      "text/plain": [
       "Text(0.5, 1.0, '7771')"
      ]
     },
     "execution_count": 682,
     "metadata": {},
     "output_type": "execute_result"
    },
    {
     "data": {
      "image/png": "[encoded data removed]",
      "text/plain": [
       "<Figure size 640x480 with 1 Axes>"
      ]
     },
     "metadata": {},
     "output_type": "display_data"
    }
   ],
   "source": [
    "##########################################\n",
    "##  original demo for 128x128x1         ##\n",
    "##########################################\n",
    "\n",
    "random_seed = 7771\n",
    "n_real = 1\n",
    "real_nx, real_ny, real_nz = 32, 32, 1\n",
    "template_size = [5, 5, 1]\n",
    "\n",
    "real = multi_points_modeling(TI, template_size, random_seed, real_nx, real_ny, real_nz, hard_data = None, soft_data=soft_data)\n",
    "plt.imshow(real)\n",
    "plt.title(f'{random_seed}')"
   ]
  },
  {
   "cell_type": "code",
   "execution_count": null,
   "metadata": {},
   "outputs": [],
   "source": []
  }
 ],
 "metadata": {
  "colab": {
   "provenance": [
    {
     "file_id": "https://github.com/geomodeller/funny_mps/blob/main/main.ipynb",
     "timestamp": 1740059087727
    }
   ]
  },
  "kernelspec": {
   "display_name": "Python 3",
   "language": "python",
   "name": "python3"
  },
  "language_info": {
   "codemirror_mode": {
    "name": "ipython",
    "version": 3
   },
   "file_extension": ".py",
   "mimetype": "text/x-python",
   "name": "python",
   "nbconvert_exporter": "python",
   "pygments_lexer": "ipython3",
   "version": "3.11.3"
  }
 },
 "nbformat": 4,
 "nbformat_minor": 0
}
