{
 "cells": [
  {
   "cell_type": "code",
   "execution_count": 11,
   "metadata": {
    "colab": {
     "base_uri": "https://localhost:8080/"
    },
    "executionInfo": {
     "elapsed": 2979,
     "status": "ok",
     "timestamp": 1740069054256,
     "user": {
      "displayName": "Honggeun Jo",
      "userId": "01265114581469161587"
     },
     "user_tz": -540
    },
    "id": "mLUyf8eClXJy",
    "outputId": "eeebd763-d31a-4b89-c1f6-7216341999bc"
   },
   "outputs": [
    {
     "name": "stdout",
     "output_type": "stream",
     "text": [
      "The autoreload extension is already loaded. To reload it, use:\n",
      "  %reload_ext autoreload\n"
     ]
    }
   ],
   "source": [
    "%load_ext autoreload\n",
    "%autoreload 2\n",
    "import matplotlib.pyplot as plt\n",
    "import numpy as np\n",
    "import pandas as pd\n",
    "from script.multi_points_modeling import multi_points_modeling, multi_points_modeling_multi_scaled, visualize_3D_pyvista_with_well, generating_hard_data\n",
    "\n",
    "TI = np.loadtxt('ti_strebelle.dat', skiprows = 3).reshape(250,250,1)\n",
    "TI_3D = np.concatenate([TI for _ in range(32)], axis=2)  # (250, 250, 32)"
   ]
  },
  {
   "cell_type": "code",
   "execution_count": 7,
   "metadata": {},
   "outputs": [
    {
     "data": {
      "application/vnd.jupyter.widget-view+json": {
       "model_id": "d2c021b10801478a82c62ec27fb63a33",
       "version_major": 2,
       "version_minor": 0
      },
      "text/plain": [
       "Widget(value='<iframe src=\"http://localhost:59599/index.html?ui=P_0x1dd495a4f90_0&reconnect=auto\" class=\"pyvis…"
      ]
     },
     "metadata": {},
     "output_type": "display_data"
    }
   ],
   "source": [
    "num_of_wells = 4\n",
    "well_locs = [(40, 40), (80, 40), (120, 80), (160, 80)]\n",
    "visualize_3D_pyvista_with_well(TI_3D, num_of_wells, well_locs)"
   ]
  },
  {
   "cell_type": "code",
   "execution_count": 8,
   "metadata": {},
   "outputs": [],
   "source": [
    "##########################################################################\n",
    "## original 2D flag demo without hard data conditioning for 64 x 64 x 8 ##\n",
    "##########################################################################\n",
    "\n",
    "random_seed = 7771\n",
    "real_nx, real_ny, real_nz = 64, 64, 8\n",
    "template_size = [5, 5, 1]\n",
    "level_size = 2\n",
    "n_level = 4\n",
    "real_2D = multi_points_modeling_multi_scaled(TI_3D, n_level, level_size, \n",
    "                                        template_size, random_seed, \n",
    "                                        real_nx, real_ny, real_nz, \n",
    "                                        hard_data = None, verbose = False)"
   ]
  },
  {
   "cell_type": "code",
   "execution_count": 12,
   "metadata": {},
   "outputs": [
    {
     "data": {
      "application/vnd.jupyter.widget-view+json": {
       "model_id": "dd7cc1ff55e44ff0b79e98de205168dc",
       "version_major": 2,
       "version_minor": 0
      },
      "text/plain": [
       "Widget(value='<iframe src=\"http://localhost:59599/index.html?ui=P_0x1dd5fdcc510_2&reconnect=auto\" class=\"pyvis…"
      ]
     },
     "metadata": {},
     "output_type": "display_data"
    }
   ],
   "source": [
    "num_of_wells = 5\n",
    "well_locs = [(10, 10), (10, 20), (20, 10), (20, 20), (15, 15)]\n",
    "visualize_3D_pyvista_with_well(real_2D, num_of_wells, well_locs)"
   ]
  },
  {
   "cell_type": "code",
   "execution_count": 13,
   "metadata": {},
   "outputs": [],
   "source": [
    "###########################################################################\n",
    "##  original 3D Flag demo without hard data conditioning for 64 x 64 x 8 ##\n",
    "###########################################################################\n",
    "\n",
    "random_seed = 7771\n",
    "real_nx, real_ny, real_nz = 64, 64, 8\n",
    "template_size = [5, 5, 5]\n",
    "level_size = 2\n",
    "n_level = 4\n",
    "\n",
    "real_3D = multi_points_modeling_multi_scaled(TI_3D, n_level, level_size, \n",
    "                                          template_size, random_seed, \n",
    "                                          real_nx, real_ny, real_nz, \n",
    "                                          hard_data = None, verbose = False)"
   ]
  },
  {
   "cell_type": "code",
   "execution_count": 14,
   "metadata": {},
   "outputs": [
    {
     "data": {
      "application/vnd.jupyter.widget-view+json": {
       "model_id": "492f286a8aa24f34b9b565b69b3a175e",
       "version_major": 2,
       "version_minor": 0
      },
      "text/plain": [
       "Widget(value='<iframe src=\"http://localhost:59599/index.html?ui=P_0x1dd5e15f0d0_3&reconnect=auto\" class=\"pyvis…"
      ]
     },
     "metadata": {},
     "output_type": "display_data"
    }
   ],
   "source": [
    "num_of_wells = 5\n",
    "well_locs = [(10, 10), (10, 20), (20, 10), (20, 20), (15, 15)]\n",
    "visualize_3D_pyvista_with_well(real_3D, num_of_wells, well_locs)"
   ]
  },
  {
   "cell_type": "code",
   "execution_count": 39,
   "metadata": {},
   "outputs": [
    {
     "name": "stdout",
     "output_type": "stream",
     "text": [
      "[MPS] multi-scale MPS starts\n",
      "------------------------------\n",
      "<Scale 3 start> Grid size is (8, 8, 1)\n",
      "... starting [curate_training_image]\n",
      "==> finishing [curate_training_image] in 0.00 seconds\n",
      "... [_preprocessing_MPS] hard data is conditioned\n",
      "... starting [_run_mps]\n",
      "==> finishing [_run_mps] in 0.02 seconds.\n",
      "<Scale 3 start> Done\n",
      "------------------------------\n",
      "<Scale 2 start> Grid size is (16, 16, 2)\n",
      "... starting [curate_training_image]\n",
      "==> finishing [curate_training_image] in 1.38 seconds\n",
      "... [_preprocessing_MPS] hard data is conditioned\n",
      "... starting [_run_mps]\n",
      "==> finishing [_run_mps] in 0.09 seconds.\n",
      "<Scale 2 start> Done\n",
      "------------------------------\n",
      "<Scale 1 start> Grid size is (32, 32, 4)\n",
      "... starting [curate_training_image]\n",
      "==> finishing [curate_training_image] in 17.90 seconds\n",
      "... [_preprocessing_MPS] hard data is conditioned\n",
      "... starting [_run_mps]\n",
      "==> finishing [_run_mps] in 13.81 seconds.\n",
      "<Scale 1 start> Done\n"
     ]
    }
   ],
   "source": [
    "##################################################################\n",
    "##  original demo with hard data conditioningfor 64 x 64 x 8    ##\n",
    "##################################################################\n",
    "\n",
    "random_seed = 7771\n",
    "real_nx, real_ny, real_nz = 64, 64, 8\n",
    "template_size = [5, 5, 5]\n",
    "level_size = 2\n",
    "n_level = 4\n",
    "well_loc_x = {\"x\": [10, 10, 15, 20]}\n",
    "well_loc_y = {\"y\": [5, 10, 15, 25]}\n",
    "num_of_wells = 4\n",
    "\n",
    "hard_data = generating_hard_data(TI_3D, well_loc_x, well_loc_y, real_nz, num_of_wells)\n",
    "real_hard_conditioning = multi_points_modeling_multi_scaled(TI_3D, n_level, level_size, \n",
    "                                          template_size, random_seed, \n",
    "                                          real_nx, real_ny, real_nz, \n",
    "                                          hard_data = hard_data, verbose = True)"
   ]
  },
  {
   "cell_type": "code",
   "execution_count": 40,
   "metadata": {},
   "outputs": [
    {
     "data": {
      "application/vnd.jupyter.widget-view+json": {
       "model_id": "2a14a9f1d0764957825c2d611054d134",
       "version_major": 2,
       "version_minor": 0
      },
      "text/plain": [
       "Widget(value='<iframe src=\"http://localhost:59599/index.html?ui=P_0x1ddac55afd0_9&reconnect=auto\" class=\"pyvis…"
      ]
     },
     "metadata": {},
     "output_type": "display_data"
    }
   ],
   "source": [
    "well_loc = list(zip(well_loc_x.get(\"x\", []), well_loc_y.get(\"y\", [])))\n",
    "visualize_3D_pyvista_with_well(real_hard_conditioning, num_of_wells, well_loc)"
   ]
  },
  {
   "cell_type": "code",
   "execution_count": 474,
   "metadata": {},
   "outputs": [
    {
     "data": {
      "text/plain": [
       "<matplotlib.image.AxesImage at 0x21e86562710>"
      ]
     },
     "execution_count": 474,
     "metadata": {},
     "output_type": "execute_result"
    },
    {
     "data": {
      "image/png": "[encoded data removed]",
      "text/plain": [
       "<Figure size 640x480 with 1 Axes>"
      ]
     },
     "metadata": {},
     "output_type": "display_data"
    }
   ],
   "source": [
    "plt.imshow(TI[:32, :32])"
   ]
  },
  {
   "cell_type": "code",
   "execution_count": 8,
   "metadata": {},
   "outputs": [],
   "source": [
    "soft_data = np.ones((32, 32, 1, 2))*-1\n",
    "tau = 0.9\n",
    "soft_data[...,0] = ((1-TI[:32,:32])*tau) + (1-tau)\n",
    "soft_data[...,1] = (TI[:32,:32]*tau) + (1-tau)"
   ]
  },
  {
   "cell_type": "code",
   "execution_count": 9,
   "metadata": {},
   "outputs": [
    {
     "data": {
      "text/plain": [
       "Text(0.5, 1.0, '7771')"
      ]
     },
     "execution_count": 9,
     "metadata": {},
     "output_type": "execute_result"
    },
    {
     "data": {
      "image/png": "[encoded data removed]",
      "text/plain": [
       "<Figure size 640x480 with 1 Axes>"
      ]
     },
     "metadata": {},
     "output_type": "display_data"
    }
   ],
   "source": [
    "##########################################\n",
    "##  original demo for 128x128x1         ##\n",
    "##########################################\n",
    "\n",
    "random_seed = 7771\n",
    "n_real = 1\n",
    "real_nx, real_ny, real_nz = 32, 32, 1\n",
    "template_size = [5, 5, 1]\n",
    "\n",
    "real_2D_soft_conditioning = multi_points_modeling(TI, template_size, random_seed, real_nx, real_ny, real_nz, hard_data = None, soft_data=soft_data)\n",
    "plt.imshow(real_2D_soft_conditioning)\n",
    "plt.title(f'{random_seed}')"
   ]
  }
 ],
 "metadata": {
  "colab": {
   "provenance": [
    {
     "file_id": "https://github.com/geomodeller/funny_mps/blob/main/main.ipynb",
     "timestamp": 1740059087727
    }
   ]
  },
  "kernelspec": {
   "display_name": "Python 3",
   "language": "python",
   "name": "python3"
  },
  "language_info": {
   "codemirror_mode": {
    "name": "ipython",
    "version": 3
   },
   "file_extension": ".py",
   "mimetype": "text/x-python",
   "name": "python",
   "nbconvert_exporter": "python",
   "pygments_lexer": "ipython3",
   "version": "3.11.3"
  }
 },
 "nbformat": 4,
 "nbformat_minor": 0
}
