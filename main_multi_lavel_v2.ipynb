{
 "cells": [
  {
   "cell_type": "code",
   "execution_count": 252,
   "metadata": {
    "colab": {
     "base_uri": "https://localhost:8080/"
    },
    "executionInfo": {
     "elapsed": 2979,
     "status": "ok",
     "timestamp": 1740069054256,
     "user": {
      "displayName": "Honggeun Jo",
      "userId": "01265114581469161587"
     },
     "user_tz": -540
    },
    "id": "mLUyf8eClXJy",
    "outputId": "eeebd763-d31a-4b89-c1f6-7216341999bc"
   },
   "outputs": [
    {
     "name": "stdout",
     "output_type": "stream",
     "text": [
      "The autoreload extension is already loaded. To reload it, use:\n",
      "  %reload_ext autoreload\n"
     ]
    }
   ],
   "source": [
    "%load_ext autoreload\n",
    "%autoreload 2\n",
    "import matplotlib.pyplot as plt\n",
    "import numpy as np\n",
    "import pandas as pd\n",
    "from script.multi_points_modeling import multi_points_modeling, multi_points_modeling_multi_scaled, visualize_TI_3D_pyvista\n",
    "\n",
    "TI = np.loadtxt('ti_strebelle.dat', skiprows = 3).reshape(250,250,1)\n",
    "TI_3D = np.concatenate([TI for _ in range(32)], axis=2)  # (250, 250, 16)"
   ]
  },
  {
   "cell_type": "code",
   "execution_count": 101,
   "metadata": {},
   "outputs": [
    {
     "data": {
      "application/vnd.jupyter.widget-view+json": {
       "model_id": "ad00e952f068435cb2de0899023b5b8d",
       "version_major": 2,
       "version_minor": 0
      },
      "text/plain": [
       "Widget(value='<iframe src=\"http://localhost:61541/index.html?ui=P_0x21f5b49ab90_27&reconnect=auto\" class=\"pyvi…"
      ]
     },
     "metadata": {},
     "output_type": "display_data"
    }
   ],
   "source": [
    "# visulaization 3D training image\n",
    "visualize_TI_3D_pyvista(TI_3D)"
   ]
  },
  {
   "cell_type": "code",
   "execution_count": 312,
   "metadata": {},
   "outputs": [
    {
     "name": "stdout",
     "output_type": "stream",
     "text": [
      "[MPS] multi-scale MPS starts\n",
      "------------------------------\n",
      "<Scale 3 start> Grid size is (8, 8, 1)\n",
      "... starting [curate_training_image]\n",
      "==> finishing [curate_training_image] in 0.08 seconds\n",
      "... [_preprocessing_MPS] hard data is conditioned\n",
      "... starting [_run_mps]\n",
      "==> finishing [_run_mps] in 0.01 seconds.\n",
      "<Scale 3 start> Done\n",
      "no no no\n",
      "------------------------------\n",
      "<Scale 2 start> Grid size is (16, 16, 2)\n",
      "... starting [curate_training_image]\n",
      "==> finishing [curate_training_image] in 0.61 seconds\n",
      "... [_preprocessing_MPS] hard data is conditioned\n",
      "... starting [_run_mps]\n",
      "==> finishing [_run_mps] in 0.14 seconds.\n",
      "<Scale 2 start> Done\n",
      "no no no\n",
      "------------------------------\n",
      "<Scale 1 start> Grid size is (32, 32, 4)\n",
      "... starting [curate_training_image]\n",
      "==> finishing [curate_training_image] in 4.75 seconds\n",
      "... [_preprocessing_MPS] hard data is conditioned\n",
      "... starting [_run_mps]\n",
      "==> finishing [_run_mps] in 9.46 seconds.\n",
      "<Scale 1 start> Done\n"
     ]
    }
   ],
   "source": [
    "####################################################################\n",
    "##  original demo without hard data conditioning for 64 x 64 x 8  ##\n",
    "####################################################################\n",
    "\n",
    "random_seed = 7771\n",
    "real_nx, real_ny, real_nz = 64, 64, 8\n",
    "template_size = [5, 5, 1]\n",
    "level_size = 2\n",
    "n_level = 4\n",
    "\n",
    "real = multi_points_modeling_multi_scaled(TI_3D, n_level, level_size, \n",
    "                                          template_size, random_seed, \n",
    "                                          real_nx, real_ny, real_nz, \n",
    "                                          hard_data = None, verbose = True)"
   ]
  },
  {
   "cell_type": "code",
   "execution_count": 313,
   "metadata": {},
   "outputs": [
    {
     "data": {
      "application/vnd.jupyter.widget-view+json": {
       "model_id": "4636af30dfe3490987baa5292c410d25",
       "version_major": 2,
       "version_minor": 0
      },
      "text/plain": [
       "Widget(value='<iframe src=\"http://localhost:61541/index.html?ui=P_0x2210d246110_79&reconnect=auto\" class=\"pyvi…"
      ]
     },
     "metadata": {},
     "output_type": "display_data"
    }
   ],
   "source": [
    "# 3D realization without hard data conditioning\n",
    "# 64 64 8\n",
    "visualize_TI_3D_pyvista(real)"
   ]
  },
  {
   "cell_type": "code",
   "execution_count": 316,
   "metadata": {},
   "outputs": [
    {
     "name": "stdout",
     "output_type": "stream",
     "text": [
      "[MPS] multi-scale MPS starts\n",
      "------------------------------\n",
      "<Scale 3 start> Grid size is (32, 32, 1)\n",
      "... starting [curate_training_image]\n",
      "==> finishing [curate_training_image] in 0.06 seconds\n",
      "... [_preprocessing_MPS] hard data is conditioned\n",
      "... starting [_run_mps]\n",
      "==> finishing [_run_mps] in 0.14 seconds.\n",
      "<Scale 3 start> Done\n",
      "no no no\n",
      "------------------------------\n",
      "<Scale 2 start> Grid size is (64, 64, 2)\n",
      "... starting [curate_training_image]\n",
      "==> finishing [curate_training_image] in 0.58 seconds\n",
      "... [_preprocessing_MPS] hard data is conditioned\n",
      "... starting [_run_mps]\n",
      "==> finishing [_run_mps] in 1.67 seconds.\n",
      "<Scale 2 start> Done\n",
      "no no no\n",
      "------------------------------\n",
      "<Scale 1 start> Grid size is (128, 128, 4)\n",
      "... starting [curate_training_image]\n",
      "==> finishing [curate_training_image] in 4.99 seconds\n",
      "... [_preprocessing_MPS] hard data is conditioned\n",
      "... starting [_run_mps]\n",
      "==> finishing [_run_mps] in 82.23 seconds.\n",
      "<Scale 1 start> Done\n"
     ]
    }
   ],
   "source": [
    "##################################################################\n",
    "##  original demo with hard data conditioningfor 64 x 64 x 8   ##\n",
    "##################################################################\n",
    "\n",
    "random_seed = 7771\n",
    "real_nx, real_ny, real_nz = 256, 256, 8\n",
    "template_size = [5, 5, 1]\n",
    "level_size = 2\n",
    "n_level = 4\n",
    "\n",
    "real_hard_conditioning = multi_points_modeling_multi_scaled(TI_3D, n_level, level_size, \n",
    "                                          template_size, random_seed, \n",
    "                                          real_nx, real_ny, real_nz, \n",
    "                                          hard_data = None, verbose = True)"
   ]
  },
  {
   "cell_type": "code",
   "execution_count": 317,
   "metadata": {},
   "outputs": [
    {
     "data": {
      "application/vnd.jupyter.widget-view+json": {
       "model_id": "af510f38feeb4bf39ed1ed4459539556",
       "version_major": 2,
       "version_minor": 0
      },
      "text/plain": [
       "Widget(value='<iframe src=\"http://localhost:61541/index.html?ui=P_0x2208033e450_81&reconnect=auto\" class=\"pyvi…"
      ]
     },
     "metadata": {},
     "output_type": "display_data"
    }
   ],
   "source": [
    "visualize_TI_3D_pyvista(real_hard_conditioning)"
   ]
  },
  {
   "cell_type": "code",
   "execution_count": 318,
   "metadata": {},
   "outputs": [
    {
     "name": "stdout",
     "output_type": "stream",
     "text": [
      "[MPS] multi-scale MPS starts\n",
      "------------------------------\n",
      "<Scale 3 start> Grid size is (8, 8, 1)\n",
      "... starting [curate_training_image]\n",
      "==> finishing [curate_training_image] in 0.06 seconds\n",
      "... [_preprocessing_MPS] hard data is conditioned\n",
      "... starting [_run_mps]\n",
      "==> finishing [_run_mps] in 0.01 seconds.\n",
      "<Scale 3 start> Done\n",
      "no no no\n",
      "------------------------------\n",
      "<Scale 2 start> Grid size is (16, 16, 2)\n",
      "... starting [curate_training_image]\n",
      "==> finishing [curate_training_image] in 0.60 seconds\n",
      "... [_preprocessing_MPS] hard data is conditioned\n",
      "... starting [_run_mps]\n",
      "==> finishing [_run_mps] in 0.13 seconds.\n",
      "<Scale 2 start> Done\n",
      "no no no\n",
      "------------------------------\n",
      "<Scale 1 start> Grid size is (32, 32, 4)\n",
      "... starting [curate_training_image]\n",
      "==> finishing [curate_training_image] in 5.18 seconds\n",
      "... [_preprocessing_MPS] hard data is conditioned\n",
      "... starting [_run_mps]\n",
      "==> finishing [_run_mps] in 9.20 seconds.\n",
      "<Scale 1 start> Done\n"
     ]
    }
   ],
   "source": [
    "##################################################################\n",
    "##  original demo with hard data conditioningfor 64 x 64 x 8    ##\n",
    "##################################################################\n",
    "\n",
    "random_seed = 7771\n",
    "real_nx, real_ny, real_nz = 64, 64, 8\n",
    "template_size = [5, 5, 1]\n",
    "level_size = 2\n",
    "n_level = 4\n",
    "unique_facies = list(np.unique(TI_3D).astype(np.int8))\n",
    "num_hard_data = real_nx\n",
    "\n",
    "z_max = max(1, real_nz)\n",
    "\n",
    "hard_data = pd.DataFrame({\n",
    "    'x': np.array([0 for _ in range(num_hard_data)]),\n",
    "    'y': np.array([i for i in range(num_hard_data)]),\n",
    "    'z': [0 for _ in range(num_hard_data)],\n",
    "    'facies': [1 for _ in range(num_hard_data)]\n",
    "})\n",
    "\n",
    "real_hard_conditioning = multi_points_modeling_multi_scaled(TI_3D, n_level, level_size, \n",
    "                                          template_size, random_seed, \n",
    "                                          real_nx, real_ny, real_nz, \n",
    "                                          hard_data = hard_data, verbose = True)"
   ]
  },
  {
   "cell_type": "code",
   "execution_count": 319,
   "metadata": {},
   "outputs": [
    {
     "data": {
      "application/vnd.jupyter.widget-view+json": {
       "model_id": "8a60b96a8881448c94a78aed311c5d41",
       "version_major": 2,
       "version_minor": 0
      },
      "text/plain": [
       "Widget(value='<iframe src=\"http://localhost:61541/index.html?ui=P_0x2212c76d2d0_82&reconnect=auto\" class=\"pyvi…"
      ]
     },
     "metadata": {},
     "output_type": "display_data"
    }
   ],
   "source": [
    "visualize_TI_3D_pyvista(real_hard_conditioning)"
   ]
  },
  {
   "cell_type": "code",
   "execution_count": 322,
   "metadata": {},
   "outputs": [
    {
     "name": "stdout",
     "output_type": "stream",
     "text": [
      "[MPS] multi-scale MPS starts\n",
      "------------------------------\n",
      "<Scale 3 start> Grid size is (8, 8, 1)\n",
      "... starting [curate_training_image]\n",
      "==> finishing [curate_training_image] in 0.07 seconds\n",
      "... [_preprocessing_MPS] hard data is conditioned\n",
      "... starting [_run_mps]\n",
      "==> finishing [_run_mps] in 0.01 seconds.\n",
      "<Scale 3 start> Done\n",
      "no no no\n",
      "------------------------------\n",
      "<Scale 2 start> Grid size is (16, 16, 2)\n",
      "... starting [curate_training_image]\n",
      "==> finishing [curate_training_image] in 0.62 seconds\n",
      "... [_preprocessing_MPS] hard data is conditioned\n",
      "... starting [_run_mps]\n",
      "==> finishing [_run_mps] in 0.14 seconds.\n",
      "<Scale 2 start> Done\n",
      "no no no\n",
      "------------------------------\n",
      "<Scale 1 start> Grid size is (32, 32, 4)\n",
      "... starting [curate_training_image]\n",
      "==> finishing [curate_training_image] in 4.93 seconds\n",
      "... [_preprocessing_MPS] hard data is conditioned\n",
      "... starting [_run_mps]\n",
      "==> finishing [_run_mps] in 9.91 seconds.\n",
      "<Scale 1 start> Done\n",
      "[MPS] multi-scale MPS starts\n",
      "------------------------------\n",
      "<Scale 3 start> Grid size is (8, 8, 1)\n",
      "... starting [curate_training_image]\n",
      "==> finishing [curate_training_image] in 0.07 seconds\n",
      "... [_preprocessing_MPS] hard data is conditioned\n",
      "... starting [_run_mps]\n",
      "==> finishing [_run_mps] in 0.01 seconds.\n",
      "<Scale 3 start> Done\n",
      "no no no\n",
      "------------------------------\n",
      "<Scale 2 start> Grid size is (16, 16, 2)\n",
      "... starting [curate_training_image]\n",
      "==> finishing [curate_training_image] in 0.60 seconds\n",
      "... [_preprocessing_MPS] hard data is conditioned\n",
      "... starting [_run_mps]\n",
      "==> finishing [_run_mps] in 0.12 seconds.\n",
      "<Scale 2 start> Done\n",
      "no no no\n",
      "------------------------------\n",
      "<Scale 1 start> Grid size is (32, 32, 4)\n",
      "... starting [curate_training_image]\n",
      "==> finishing [curate_training_image] in 4.99 seconds\n",
      "... [_preprocessing_MPS] hard data is conditioned\n",
      "... starting [_run_mps]\n",
      "==> finishing [_run_mps] in 9.47 seconds.\n",
      "<Scale 1 start> Done\n",
      "[MPS] multi-scale MPS starts\n",
      "------------------------------\n",
      "<Scale 3 start> Grid size is (8, 8, 1)\n",
      "... starting [curate_training_image]\n",
      "==> finishing [curate_training_image] in 0.06 seconds\n",
      "... [_preprocessing_MPS] hard data is conditioned\n",
      "... starting [_run_mps]\n",
      "==> finishing [_run_mps] in 0.01 seconds.\n",
      "<Scale 3 start> Done\n",
      "no no no\n",
      "------------------------------\n",
      "<Scale 2 start> Grid size is (16, 16, 2)\n",
      "... starting [curate_training_image]\n",
      "==> finishing [curate_training_image] in 0.59 seconds\n",
      "... [_preprocessing_MPS] hard data is conditioned\n",
      "... starting [_run_mps]\n",
      "==> finishing [_run_mps] in 0.14 seconds.\n",
      "<Scale 2 start> Done\n",
      "no no no\n",
      "------------------------------\n",
      "<Scale 1 start> Grid size is (32, 32, 4)\n",
      "... starting [curate_training_image]\n",
      "==> finishing [curate_training_image] in 4.61 seconds\n",
      "... [_preprocessing_MPS] hard data is conditioned\n",
      "... starting [_run_mps]\n",
      "==> finishing [_run_mps] in 9.17 seconds.\n",
      "<Scale 1 start> Done\n",
      "[MPS] multi-scale MPS starts\n",
      "------------------------------\n",
      "<Scale 3 start> Grid size is (8, 8, 1)\n",
      "... starting [curate_training_image]\n",
      "==> finishing [curate_training_image] in 0.06 seconds\n",
      "... [_preprocessing_MPS] hard data is conditioned\n",
      "... starting [_run_mps]\n",
      "==> finishing [_run_mps] in 0.01 seconds.\n",
      "<Scale 3 start> Done\n",
      "no no no\n",
      "------------------------------\n",
      "<Scale 2 start> Grid size is (16, 16, 2)\n",
      "... starting [curate_training_image]\n",
      "==> finishing [curate_training_image] in 0.63 seconds\n",
      "... [_preprocessing_MPS] hard data is conditioned\n",
      "... starting [_run_mps]\n",
      "==> finishing [_run_mps] in 0.15 seconds.\n",
      "<Scale 2 start> Done\n",
      "no no no\n",
      "------------------------------\n",
      "<Scale 1 start> Grid size is (32, 32, 4)\n",
      "... starting [curate_training_image]\n",
      "==> finishing [curate_training_image] in 4.88 seconds\n",
      "... [_preprocessing_MPS] hard data is conditioned\n",
      "... starting [_run_mps]\n",
      "==> finishing [_run_mps] in 9.61 seconds.\n",
      "<Scale 1 start> Done\n",
      "[MPS] multi-scale MPS starts\n",
      "------------------------------\n",
      "<Scale 3 start> Grid size is (8, 8, 1)\n",
      "... starting [curate_training_image]\n",
      "==> finishing [curate_training_image] in 0.07 seconds\n",
      "... [_preprocessing_MPS] hard data is conditioned\n",
      "... starting [_run_mps]\n",
      "==> finishing [_run_mps] in 0.01 seconds.\n",
      "<Scale 3 start> Done\n",
      "no no no\n",
      "------------------------------\n",
      "<Scale 2 start> Grid size is (16, 16, 2)\n",
      "... starting [curate_training_image]\n",
      "==> finishing [curate_training_image] in 0.54 seconds\n",
      "... [_preprocessing_MPS] hard data is conditioned\n",
      "... starting [_run_mps]\n",
      "==> finishing [_run_mps] in 0.14 seconds.\n",
      "<Scale 2 start> Done\n",
      "no no no\n",
      "------------------------------\n",
      "<Scale 1 start> Grid size is (32, 32, 4)\n",
      "... starting [curate_training_image]\n",
      "==> finishing [curate_training_image] in 4.78 seconds\n",
      "... [_preprocessing_MPS] hard data is conditioned\n",
      "... starting [_run_mps]\n",
      "==> finishing [_run_mps] in 9.33 seconds.\n",
      "<Scale 1 start> Done\n"
     ]
    },
    {
     "data": {
      "image/png": "[encoded data removed]",
      "text/plain": [
       "<Figure size 2000x2000 with 5 Axes>"
      ]
     },
     "metadata": {},
     "output_type": "display_data"
    }
   ],
   "source": [
    "plt.figure(figsize=(20, 20))\n",
    "\n",
    "for _ in range(5):\n",
    "\n",
    "    plt.subplot(1, 5, _+1)\n",
    "    random_seed = 7771\n",
    "    real_nx, real_ny, real_nz = 64, 64, 8\n",
    "    template_size = [5, 5, 1]\n",
    "    level_size = 2\n",
    "    n_level = 4\n",
    "    unique_facies = list(np.unique(TI_3D).astype(np.int8))\n",
    "    num_hard_data = real_nx//4\n",
    "\n",
    "    z_max = max(1, real_nz)\n",
    "    # hard_data = pd.DataFrame({\n",
    "    # 'x': np.random.randint(0, real_nx, num_hard_data),\n",
    "    # 'y': np.random.randint(0, real_ny, num_hard_data),\n",
    "    # 'z': [0 for _ in range(num_hard_data)],\n",
    "    # 'facies': [1 for _ in range(num_hard_data)]\n",
    "    # })\n",
    "\n",
    "    hard_data = pd.DataFrame({\n",
    "        'x': np.array([0 for _ in range(num_hard_data)]),\n",
    "        'y': np.array([i for i in range(num_hard_data)]),\n",
    "        'z': [0 for _ in range(num_hard_data)],\n",
    "        'facies': [1 for _ in range(num_hard_data)]\n",
    "    })\n",
    "    \n",
    "    real_hard_conditioning = multi_points_modeling_multi_scaled(TI_3D, n_level, level_size, \n",
    "                                            template_size, random_seed + _, \n",
    "                                            real_nx, real_ny, real_nz, \n",
    "                                            hard_data = hard_data, verbose = True)\n",
    "    plt.imshow(real_hard_conditioning[:,:,0])"
   ]
  },
  {
   "cell_type": "code",
   "execution_count": 7,
   "metadata": {},
   "outputs": [
    {
     "data": {
      "text/plain": [
       "<matplotlib.image.AxesImage at 0x21ed09f6e10>"
      ]
     },
     "execution_count": 7,
     "metadata": {},
     "output_type": "execute_result"
    },
    {
     "data": {
      "image/png": "[encoded data removed]",
      "text/plain": [
       "<Figure size 640x480 with 1 Axes>"
      ]
     },
     "metadata": {},
     "output_type": "display_data"
    }
   ],
   "source": [
    "plt.imshow(TI[:32, :32])"
   ]
  },
  {
   "cell_type": "code",
   "execution_count": 8,
   "metadata": {},
   "outputs": [],
   "source": [
    "soft_data = np.ones((32, 32, 1, 2))*-1\n",
    "tau = 0.9\n",
    "soft_data[...,0] = ((1-TI[:32,:32])*tau) + (1-tau)\n",
    "soft_data[...,1] = (TI[:32,:32]*tau) + (1-tau)"
   ]
  },
  {
   "cell_type": "code",
   "execution_count": 9,
   "metadata": {},
   "outputs": [
    {
     "data": {
      "text/plain": [
       "Text(0.5, 1.0, '7771')"
      ]
     },
     "execution_count": 9,
     "metadata": {},
     "output_type": "execute_result"
    },
    {
     "data": {
      "image/png": "[encoded data removed]",
      "text/plain": [
       "<Figure size 640x480 with 1 Axes>"
      ]
     },
     "metadata": {},
     "output_type": "display_data"
    }
   ],
   "source": [
    "##########################################\n",
    "##  original demo for 128x128x1         ##\n",
    "##########################################\n",
    "\n",
    "random_seed = 7771\n",
    "n_real = 1\n",
    "real_nx, real_ny, real_nz = 32, 32, 1\n",
    "template_size = [5, 5, 1]\n",
    "\n",
    "real_2D_soft_conditioning = multi_points_modeling(TI, template_size, random_seed, real_nx, real_ny, real_nz, hard_data = None, soft_data=soft_data)\n",
    "plt.imshow(real_2D_soft_conditioning)\n",
    "plt.title(f'{random_seed}')"
   ]
  }
 ],
 "metadata": {
  "colab": {
   "provenance": [
    {
     "file_id": "https://github.com/geomodeller/funny_mps/blob/main/main.ipynb",
     "timestamp": 1740059087727
    }
   ]
  },
  "kernelspec": {
   "display_name": "Python 3",
   "language": "python",
   "name": "python3"
  },
  "language_info": {
   "codemirror_mode": {
    "name": "ipython",
    "version": 3
   },
   "file_extension": ".py",
   "mimetype": "text/x-python",
   "name": "python",
   "nbconvert_exporter": "python",
   "pygments_lexer": "ipython3",
   "version": "3.11.3"
  }
 },
 "nbformat": 4,
 "nbformat_minor": 0
}
